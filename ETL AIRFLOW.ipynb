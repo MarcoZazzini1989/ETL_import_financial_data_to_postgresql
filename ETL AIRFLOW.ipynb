{
 "cells": [
  {
   "cell_type": "code",
   "execution_count": null,
   "metadata": {},
   "outputs": [],
   "source": [
    "from airflow import DAG\n",
    "from airflow.operators.python import PythonOperator\n",
    "from datetime import datetime\n",
    "import requests\n",
    "import pandas as pd\n",
    "import psycopg2"
   ]
  },
  {
   "cell_type": "code",
   "execution_count": null,
   "metadata": {},
   "outputs": [],
   "source": [
    "\n",
    "# Define your DAG ID and execution schedule (customize as needed)\n",
    "dag_id = 'alpha_vantage_to_postgresql'\n",
    "schedule_interval = None  # Execute manually or specify a cron string\n",
    "\n",
    "# Initialize the DAG\n",
    "default_args = {\n",
    "    'owner': 'yourname',\n",
    "    'start_date': datetime(2023, 10, 26),\n",
    "    'depends_on_past': False,\n",
    "    'retries': 1,\n",
    "}\n",
    "dag = DAG(dag_id, schedule_interval=schedule_interval, default_args=default_args)\n",
    "\n",
    "# Replace 'YOUR_API_KEY' with your Alpha Vantage API key\n",
    "api_key = '.....'\n",
    "\n"
   ]
  },
  {
   "cell_type": "code",
   "execution_count": null,
   "metadata": {},
   "outputs": [],
   "source": [
    "# Define a function to download data from Alpha Vantage\n",
    "def download_alpha_vantage_data():\n",
    "    symbol_list = [\"AAPL\", \"MSFT\", \"GOOGL\"]  # Example: a list of stock symbols\n",
    "    dataframes = []\n",
    "\n",
    "    for symbol in symbol_list:\n",
    "        api_url = f\"https://www.alphavantage.co/query?function=TIME_SERIES_DAILY&symbol={symbol}&interval=5min&apikey={api_key}\"\n",
    "        response = requests.get(api_url)\n",
    "\n",
    "        if response.status_code == 200:\n",
    "            data = response.json()\n",
    "            time_series_data = data.get('Time Series (Daily)')\n",
    "\n",
    "            if time_series_data:\n",
    "                df = pd.DataFrame.from_dict(time_series_data, orient='index')\n",
    "                df['symbol'] = symbol  # Add a column for the symbol\n",
    "                df['date'] = df.index  # Create a 'date' column from the date\n",
    "                dataframes.append(df)\n",
    "            else:\n",
    "                print(f\"No time series data for {symbol}\")\n",
    "        else:\n",
    "            print(f\"API Request for {symbol} Failed\")\n",
    "\n",
    "    if dataframes:\n",
    "        combined_df = pd.concat(dataframes)\n",
    "        combined_df['date'] = pd.to_datetime(combined_df['date'])  # Convert 'date' to datetime format\n",
    "        sorted_df = combined_df.sort_values(by='date', ascending=True)  # Sort by date\n",
    "\n",
    "        return sorted_df\n"
   ]
  },
  {
   "cell_type": "code",
   "execution_count": null,
   "metadata": {},
   "outputs": [],
   "source": [
    "# Define a function to insert data into PostgreSQL\n",
    "def insert_to_postgresql(**kwargs):\n",
    "    ti = kwargs['ti']\n",
    "    sorted_df = ti.xcom_pull(task_ids='download_task')\n",
    "\n",
    "    conn = psycopg2.connect(\n",
    "        host='your_postgresql_host',\n",
    "        database='your_database_name',\n",
    "        user='your_username',\n",
    "        password='your_password'\n",
    "    )\n",
    "    cursor = conn.cursor()\n",
    "\n",
    "    for symbol in symbol_list:\n",
    "        table_name = f\"stock_data_{symbol}\"\n",
    "\n",
    "        create_table_query = f\"\"\"\n",
    "        CREATE TABLE IF NOT EXISTS {table_name} (\n",
    "            date DATE PRIMARY KEY,\n",
    "            open NUMERIC,\n",
    "            high NUMERIC,\n",
    "            low NUMERIC,\n",
    "            close NUMERIC,\n",
    "            adjusted_close NUMERIC,\n",
    "            volume BIGINT\n",
    "        )\n",
    "        \"\"\"\n",
    "        cursor.execute(create_table_query)\n",
    "        conn.commit()\n",
    "\n",
    "        symbol_df = sorted_df[sorted_df['symbol'] == symbol]\n",
    "        for _, row in symbol_df.iterrows():\n",
    "            insert_query = f\"\"\"\n",
    "            INSERT INTO {table_name} (date, open, high, low, close, adjusted_close, volume)\n",
    "            VALUES (%s, %s, %s, %s, %s, %s, %s)\n",
    "            \"\"\"\n",
    "            data = (\n",
    "                row['date'].date(),\n",
    "                row['1. open'],\n",
    "                row['2. high'],\n",
    "                row['3. low'],\n",
    "                row['4. close'],\n",
    "                row['5. adjusted close'],\n",
    "                row['6. volume']\n",
    "            )\n",
    "            cursor.execute(insert_query, data)\n",
    "            conn.commit()\n",
    "\n",
    "    cursor.close()\n",
    "    conn.close()"
   ]
  },
  {
   "cell_type": "code",
   "execution_count": null,
   "metadata": {},
   "outputs": [],
   "source": [
    "# Create separate tasks for downloading and inserting data\n",
    "download_task = PythonOperator(\n",
    "    task_id='download_task',\n",
    "    python_callable=download_alpha_vantage_data,\n",
    "    dag=dag,\n",
    ")\n",
    "\n",
    "insert_task = PythonOperator(\n",
    "    task_id='insert_task',\n",
    "    python_callable=insert_to_postgresql,\n",
    "    provide_context=True,\n",
    "    dag=dag,\n",
    ")"
   ]
  },
  {
   "cell_type": "code",
   "execution_count": null,
   "metadata": {},
   "outputs": [],
   "source": [
    "# Execute the tasks manually\n",
    "download_task.execute(context={})\n",
    "insert_task.execute(context={})"
   ]
  },
  {
   "cell_type": "code",
   "execution_count": null,
   "metadata": {},
   "outputs": [],
   "source": [
    "### Execute tasks with airflow\n",
    "\n",
    "\n",
    "# Set task dependencies\n",
    "download_task >> insert_task\n",
    "\n",
    "if __name__ == \"__main__\":\n",
    "    dag.cli()"
   ]
  }
 ],
 "metadata": {
  "kernelspec": {
   "display_name": "Python 3",
   "language": "python",
   "name": "python3"
  },
  "language_info": {
   "codemirror_mode": {
    "name": "ipython",
    "version": 3
   },
   "file_extension": ".py",
   "mimetype": "text/x-python",
   "name": "python",
   "nbconvert_exporter": "python",
   "pygments_lexer": "ipython3",
   "version": "3.8.5"
  }
 },
 "nbformat": 4,
 "nbformat_minor": 4
}
